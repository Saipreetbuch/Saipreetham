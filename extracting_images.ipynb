{
 "cells": [
  {
   "cell_type": "code",
   "execution_count": 22,
   "metadata": {},
   "outputs": [
    {
     "name": "stdout",
     "output_type": "stream",
     "text": [
      "Total number of images is : 539\n"
     ]
    }
   ],
   "source": [
    "import re \n",
    "\n",
    "def image_pro(name,image=True):\n",
    "    \n",
    "    if name=='jji_project.001':\n",
    "        \n",
    "        filename = open('jji_project.001', \"rb\")\n",
    "        d = filename.read()\n",
    "        \n",
    "        if image:\n",
    "\n",
    "            #Regular Expression that contains header as \"Josh\" and footer as \"Jones\"\n",
    "            reg_exp = re.compile(b'\\x00\\x4A\\x00\\x4F\\x00\\x53\\x00\\x48[\\x00-\\xFF]+?\\x4A\\x00\\x4F\\x00\\x4E\\x00\\x45\\x00\\x53')\n",
    "            image = reg_exp.findall(d)\n",
    "            images = 1\n",
    "\n",
    "            for i in image:\n",
    "                #Attaching each image with .jji extension\n",
    "                file = \"file\"+str(images)+\".jji\"\n",
    "                file1 = open(file,'wb')\n",
    "                file1.write(i)  \n",
    "                images = images+1\n",
    "        \n",
    "    else:\n",
    "        \n",
    "        #if its not the file\n",
    "        print(\"check your file name again\")\n",
    "        \n",
    "    return file1,images\n",
    "\n",
    "file1,images=image_pro('jji_project.001')\n",
    "\n",
    "print(\"Total number of images is : \"+str(images))\n",
    "\n"
   ]
  }
 ],
 "metadata": {
  "kernelspec": {
   "display_name": "Python 3",
   "language": "python",
   "name": "python3"
  },
  "language_info": {
   "codemirror_mode": {
    "name": "ipython",
    "version": 3
   },
   "file_extension": ".py",
   "mimetype": "text/x-python",
   "name": "python",
   "nbconvert_exporter": "python",
   "pygments_lexer": "ipython3",
   "version": "3.6.5"
  }
 },
 "nbformat": 4,
 "nbformat_minor": 2
}
