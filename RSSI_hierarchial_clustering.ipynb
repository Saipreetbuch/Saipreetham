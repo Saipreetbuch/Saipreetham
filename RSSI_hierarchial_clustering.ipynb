{
 "cells": [
  {
   "cell_type": "code",
   "execution_count": null,
   "metadata": {},
   "outputs": [],
   "source": [
    "import numpy as np\n",
    "import matplotlib.pyplot as plt\n",
    "import pandas as pd\n",
    "\n",
    "\n",
    "dataset = pd.read_csv('sample.txt',sep =\",\",header=None)\n",
    "x= dataset.iloc[0:20000,1:23].values\n",
    "\n",
    "# import datetime \n",
    "# s = datetime.datetime.now()\n",
    "# print(s)\n",
    "\n",
    "# from sklearn.preprocessing import StandardScaler\n",
    "# sc = StandardScaler()\n",
    "# x = sc.fit_transform(x1)\n",
    "\n",
    "import scipy.cluster.hierarchy as sch\n",
    "dendrogram = sch.dendrogram(sch.linkage(x,method ='ward'))\n",
    "plt.title('finding clusters')\n",
    "plt.xlabel('data points')\n",
    "plt.ylabel('distance(ward)')\n",
    "plt.show()\n",
    "\n",
    "from sklearn.decomposition import PCA\n",
    "pca = PCA(n_components =2)\n",
    "x = pca.fit_transform(x)\n",
    "explained_variance = pca.explained_variance_ratio_\n",
    "\n",
    "from sklearn.cluster import AgglomerativeClustering\n",
    "hc = AgglomerativeClustering(n_clusters=4)\n",
    "y_kmeans = hc.fit_predict(x)\n",
    "\n",
    "s1 = datetime.datetime.now()\n",
    "print(s1)\n",
    "\n",
    "plt.scatter(x[:, 0], x[:, 1], c=y_kmeans, s=50, cmap='viridis')\n",
    "plt.scatter(x[y_kmeans==0,0],x[y_kmeans==0,1],s=100,c=\"red\",label=\"cluster1\")\n",
    "plt.scatter(x[y_kmeans==1,0],x[y_kmeans==1,1],s=100,c=\"green\",label=\"cluster2\")\n",
    "plt.scatter(x[y_kmeans==2,0],x[y_kmeans==2,1],s=100,c=\"blue\",label=\"cluster3\")\n",
    "plt.scatter(x[y_kmeans==3,0],x[y_kmeans==3,1],s=100,c=\"black\",label=\"cluster4\")\n",
    "# plt.scatter(x[y_kmeans==4,0],x[y_kmeans==4,1],s=100,c=\"pink\",label=\"cluster5\")\n",
    "# plt.scatter(x[y_kmeans==5,0],x[y_kmeans==5,1],s=100,c=\"purple\",label=\"cluster6\")\n",
    "\n",
    "# plt.scatter(y_kmeans.cluster_centers_[:,0],y_kmeans.cluster_centers_[:,1],s=300,c=\"yellow\",label=\"Cluster-Centroids\")\n",
    "\n",
    "\n",
    "plt.title('Hierarchical Clustering')\n",
    "plt.xlabel('x1')\n",
    "plt.ylabel('x2')\n",
    "plt.xlim(-5,20)\n",
    "plt.legend()\n",
    "plt.show()\n",
    "\n",
    "\n"
   ]
  },
  {
   "cell_type": "code",
   "execution_count": 17,
   "metadata": {},
   "outputs": [
    {
     "data": {
      "text/plain": [
       "0.528620602149341"
      ]
     },
     "execution_count": 17,
     "metadata": {},
     "output_type": "execute_result"
    }
   ],
   "source": [
    "# from sklearn.metrics import davies_bouldin_score\n",
    "# z = davies_bouldin_score(x, y_kmeans)\n",
    "# z\n",
    "from sklearn.metrics import silhouette_score\n",
    "z = silhouette_score(x,y_kmeans)\n",
    "z"
   ]
  }
 ],
 "metadata": {
  "kernelspec": {
   "display_name": "Python 3",
   "language": "python",
   "name": "python3"
  },
  "language_info": {
   "codemirror_mode": {
    "name": "ipython",
    "version": 3
   },
   "file_extension": ".py",
   "mimetype": "text/x-python",
   "name": "python",
   "nbconvert_exporter": "python",
   "pygments_lexer": "ipython3",
   "version": "3.6.5"
  }
 },
 "nbformat": 4,
 "nbformat_minor": 2
}
