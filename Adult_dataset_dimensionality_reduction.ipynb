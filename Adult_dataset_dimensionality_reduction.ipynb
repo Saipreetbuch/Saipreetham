{
 "cells": [
  {
   "cell_type": "code",
   "execution_count": 5,
   "metadata": {},
   "outputs": [
    {
     "name": "stdout",
     "output_type": "stream",
     "text": [
      "2019-01-08 14:32:37.343645\n"
     ]
    },
    {
     "name": "stderr",
     "output_type": "stream",
     "text": [
      "C:\\Users\\saipr\\Anaconda3\\lib\\site-packages\\sklearn\\utils\\validation.py:590: DataConversionWarning: Data with input dtype object was converted to float64 by StandardScaler.\n",
      "  warnings.warn(msg, DataConversionWarning)\n",
      "C:\\Users\\saipr\\Anaconda3\\lib\\site-packages\\sklearn\\utils\\validation.py:590: DataConversionWarning: Data with input dtype object was converted to float64 by StandardScaler.\n",
      "  warnings.warn(msg, DataConversionWarning)\n",
      "C:\\Users\\saipr\\Anaconda3\\lib\\site-packages\\sklearn\\utils\\validation.py:590: DataConversionWarning: Data with input dtype object was converted to float64 by StandardScaler.\n",
      "  warnings.warn(msg, DataConversionWarning)\n",
      "C:\\Users\\saipr\\Anaconda3\\lib\\site-packages\\sklearn\\svm\\base.py:196: FutureWarning: The default value of gamma will change from 'auto' to 'scale' in version 0.22 to account better for unscaled features. Set gamma explicitly to 'auto' or 'scale' to avoid this warning.\n",
      "  \"avoid this warning.\", FutureWarning)\n"
     ]
    },
    {
     "name": "stdout",
     "output_type": "stream",
     "text": [
      "2019-01-08 14:32:52.201910\n"
     ]
    },
    {
     "data": {
      "image/png": "[encoded data removed]",
      "text/plain": [
       "<Figure size 432x288 with 1 Axes>"
      ]
     },
     "metadata": {},
     "output_type": "display_data"
    }
   ],
   "source": [
    "import numpy as np\n",
    "import matplotlib.pyplot as plt\n",
    "import pandas as pd\n",
    "import datetime \n",
    "\n",
    "s = datetime.datetime.now()\n",
    "print(s)\n",
    "\n",
    "dataset = pd.read_csv('adult.csv')\n",
    "df=dataset.copy()\n",
    "\n",
    "df['native-country'].replace('?','United-States',inplace=True)\n",
    "df['occupation'].replace('?','Prof-specialty',inplace=True)\n",
    "df['workclass'].replace('?','Private',inplace=True)\n",
    "\n",
    "x = df.iloc[:,:-1].values\n",
    "y = df.iloc[:,14].values\n",
    "\n",
    "from sklearn.preprocessing import LabelEncoder,OneHotEncoder\n",
    "lb_x = LabelEncoder()\n",
    "x[:,1] = lb_x.fit_transform(x[:, 1])\n",
    "onehotencoder = OneHotEncoder(categorical_features = [1])\n",
    "\n",
    "lb_x1 = LabelEncoder()\n",
    "x[:,3] = lb_x1.fit_transform(x[:, 3])\n",
    "onehotencoder = OneHotEncoder(categorical_features = [3])\n",
    "\n",
    "lb_x2 = LabelEncoder()\n",
    "x[:,5] = lb_x2.fit_transform(x[:, 5])\n",
    "onehotencoder = OneHotEncoder(categorical_features = [5])\n",
    "\n",
    "lb_x3 = LabelEncoder()\n",
    "x[:,6] = lb_x3.fit_transform(x[:, 6])\n",
    "onehotencoder = OneHotEncoder(categorical_features = [6])\n",
    "\n",
    "lb_x4 = LabelEncoder()\n",
    "x[:,7] = lb_x4.fit_transform(x[:, 7])\n",
    "onehotencoder = OneHotEncoder(categorical_features = [7])\n",
    "\n",
    "lb_x5 = LabelEncoder()\n",
    "x[:,8] = lb_x5.fit_transform(x[:, 8])\n",
    "onehotencoder = OneHotEncoder(categorical_features = [8])\n",
    "\n",
    "lb_x6 = LabelEncoder()\n",
    "x[:,9] = lb_x6.fit_transform(x[:, 9])\n",
    "onehotencoder = OneHotEncoder(categorical_features = [9])\n",
    "\n",
    "lb_x7 = LabelEncoder()\n",
    "x[:,13] = lb_x7.fit_transform(x[:, 13])\n",
    "onehotencoder = OneHotEncoder(categorical_features = [13])\n",
    "\n",
    "lb_y = LabelEncoder()\n",
    "y = lb_y.fit_transform(y)\n",
    "\n",
    "\n",
    "from sklearn.model_selection import train_test_split\n",
    "x_train,x_test,y_train,y_test = train_test_split(x,y,test_size =0.5,random_state = 0)\n",
    "\n",
    "\n",
    "from sklearn.preprocessing import StandardScaler\n",
    "sc = StandardScaler()\n",
    "x_train = sc.fit_transform(x_train)\n",
    "x_test = sc.transform(x_test)\n",
    "\n",
    "\n",
    "from sklearn.decomposition import PCA\n",
    "pca = PCA(n_components =2)\n",
    "x_train = pca.fit_transform(x_train)\n",
    "x_test = pca.fit_transform(x_test)\n",
    "explained_variance = pca.explained_variance_ratio_\n",
    "\n",
    "# from sklearn.discriminant_analysis import LinearDiscriminantAnalysis as LDA\n",
    "# lda = LDA(n_components = 1)\n",
    "# x_train = lda.fit_transform(x_train, y_train)\n",
    "# x_test = lda.transform(x_test)\n",
    "\n",
    "\n",
    "\n",
    "from sklearn.svm import SVC\n",
    "classifier = SVC(kernel = 'rbf',random_state=0)\n",
    "\n",
    "classifier.fit(x_train,y_train)\n",
    "\n",
    "y_pred = classifier.predict(x_test)\n",
    "s1 = datetime.datetime.now()\n",
    "print(s1)\n",
    "\n",
    "from sklearn.metrics import confusion_matrix\n",
    "cm = confusion_matrix(y_test,y_pred)\n",
    "\n",
    "from matplotlib.colors import ListedColormap\n",
    "X_set, y_set = x_test, y_test\n",
    " \n",
    "aranged_pc1 = np.arange(start = X_set[:, 0].min(), stop = X_set[:, 0].max(), step = 0.01)\n",
    "aranged_pc2 = np.arange(start = X_set[:, 1].min(), stop = X_set[:, 1].max(), step = 0.01)\n",
    " \n",
    "X1, X2 = np.meshgrid(aranged_pc1, aranged_pc2)\n",
    "plt.contourf(X1, X2, classifier.predict(np.array([X1.ravel(), X2.ravel()]).T).reshape(X1.shape),\n",
    "alpha = 0.5, cmap = ListedColormap(('white','green','blue','green','yellow','black','red')))\n",
    " \n",
    "plt.xlim(X1.min(), X1.max())\n",
    "plt.ylim(X2.min(), X2.max())\n",
    "for i, j in enumerate(np.unique(y_set)):\n",
    "    plt.scatter(X_set[y_set == j, 0], X_set[y_set == j, 1],\n",
    "                c = ListedColormap(( 'green','blue'))(i), label = j)\n",
    "# plt.title('Linear Discriminant Analysis')\n",
    "plt.title('Principal Component Analysis')\n",
    "plt.xlabel('PC1')\n",
    "plt.ylabel('PC2')\n",
    "# plt.xlim(-6,6)\n",
    "plt.legend()\n",
    "plt.show()"
   ]
  }
 ],
 "metadata": {
  "kernelspec": {
   "display_name": "Python 3",
   "language": "python",
   "name": "python3"
  },
  "language_info": {
   "codemirror_mode": {
    "name": "ipython",
    "version": 3
   },
   "file_extension": ".py",
   "mimetype": "text/x-python",
   "name": "python",
   "nbconvert_exporter": "python",
   "pygments_lexer": "ipython3",
   "version": "3.6.5"
  }
 },
 "nbformat": 4,
 "nbformat_minor": 2
}
