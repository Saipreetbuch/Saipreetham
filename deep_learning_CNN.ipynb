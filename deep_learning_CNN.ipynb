{
 "cells": [
  {
   "cell_type": "code",
   "execution_count": 2,
   "metadata": {},
   "outputs": [
    {
     "name": "stderr",
     "output_type": "stream",
     "text": [
      "C:\\Users\\saipr\\Anaconda3\\lib\\site-packages\\h5py\\__init__.py:36: FutureWarning: Conversion of the second argument of issubdtype from `float` to `np.floating` is deprecated. In future, it will be treated as `np.float64 == np.dtype(float).type`.\n",
      "  from ._conv import register_converters as _register_converters\n",
      "Using TensorFlow backend.\n",
      "C:\\Users\\saipr\\Anaconda3\\lib\\site-packages\\ipykernel_launcher.py:12: UserWarning: Update your `Conv2D` call to the Keras 2 API: `Conv2D(32, (3, 3), input_shape=(64, 64, 3..., activation=\"relu\")`\n",
      "  if sys.path[0] == '':\n",
      "C:\\Users\\saipr\\Anaconda3\\lib\\site-packages\\ipykernel_launcher.py:15: UserWarning: Update your `Conv2D` call to the Keras 2 API: `Conv2D(32, (3, 3), activation=\"relu\")`\n",
      "  from ipykernel import kernelapp as app\n"
     ]
    },
    {
     "name": "stdout",
     "output_type": "stream",
     "text": [
      "WARNING:tensorflow:From C:\\Users\\saipr\\Anaconda3\\lib\\site-packages\\keras\\backend\\tensorflow_backend.py:1255: calling reduce_prod (from tensorflow.python.ops.math_ops) with keep_dims is deprecated and will be removed in a future version.\n",
      "Instructions for updating:\n",
      "keep_dims is deprecated, use keepdims instead\n"
     ]
    },
    {
     "name": "stderr",
     "output_type": "stream",
     "text": [
      "C:\\Users\\saipr\\Anaconda3\\lib\\site-packages\\ipykernel_launcher.py:20: UserWarning: Update your `Dense` call to the Keras 2 API: `Dense(activation=\"relu\", units=128)`\n",
      "C:\\Users\\saipr\\Anaconda3\\lib\\site-packages\\ipykernel_launcher.py:22: UserWarning: Update your `Dense` call to the Keras 2 API: `Dense(activation=\"sigmoid\", units=1)`\n"
     ]
    }
   ],
   "source": [
    "import keras\n",
    "\n",
    "from keras.models import Sequential\n",
    "from keras.layers import Convolution2D\n",
    "from keras.layers import MaxPooling2D\n",
    "from keras.layers import Flatten\n",
    "from keras.layers import Dense\n",
    "\n",
    "\n",
    "classifier = Sequential()\n",
    "\n",
    "classifier.add(Convolution2D(32,3,3, input_shape = (64,64,3),activation = 'relu'))\n",
    "classifier.add(MaxPooling2D(2,2))\n",
    "\n",
    "classifier.add(Convolution2D(32,3,3, activation = 'relu'))\n",
    "classifier.add(MaxPooling2D(2,2))\n",
    "\n",
    "classifier.add(Flatten())\n",
    "\n",
    "classifier.add(Dense(output_dim = 128,activation = 'relu'))\n",
    "\n",
    "classifier.add(Dense(output_dim = 1, activation = 'sigmoid'))"
   ]
  },
  {
   "cell_type": "code",
   "execution_count": 3,
   "metadata": {},
   "outputs": [
    {
     "name": "stdout",
     "output_type": "stream",
     "text": [
      "WARNING:tensorflow:From C:\\Users\\saipr\\Anaconda3\\lib\\site-packages\\keras\\backend\\tensorflow_backend.py:1340: calling reduce_mean (from tensorflow.python.ops.math_ops) with keep_dims is deprecated and will be removed in a future version.\n",
      "Instructions for updating:\n",
      "keep_dims is deprecated, use keepdims instead\n"
     ]
    }
   ],
   "source": [
    "classifier.compile(optimizer ='adam',loss= 'binary_crossentropy',metrics = ['accuracy'])"
   ]
  },
  {
   "cell_type": "code",
   "execution_count": 4,
   "metadata": {},
   "outputs": [],
   "source": [
    "from keras.preprocessing.image import ImageDataGenerator\n",
    "\n",
    "train_datagen = ImageDataGenerator(rescale = 1./255,shear_range = 0.2, zoom_range =0.2,horizontal_flip= True)\n",
    "\n",
    "test_datagen = ImageDataGenerator(rescale = 1./255)"
   ]
  },
  {
   "cell_type": "code",
   "execution_count": 5,
   "metadata": {},
   "outputs": [
    {
     "name": "stdout",
     "output_type": "stream",
     "text": [
      "Found 8000 images belonging to 2 classes.\n",
      "Found 2000 images belonging to 2 classes.\n"
     ]
    },
    {
     "name": "stderr",
     "output_type": "stream",
     "text": [
      "C:\\Users\\saipr\\Anaconda3\\lib\\site-packages\\ipykernel_launcher.py:14: UserWarning: The semantics of the Keras 2 argument `steps_per_epoch` is not the same as the Keras 1 argument `samples_per_epoch`. `steps_per_epoch` is the number of batches to draw from the generator at each epoch. Basically steps_per_epoch = samples_per_epoch/batch_size. Similarly `nb_val_samples`->`validation_steps` and `val_samples`->`steps` arguments have changed. Update your method calls accordingly.\n",
      "  \n",
      "C:\\Users\\saipr\\Anaconda3\\lib\\site-packages\\ipykernel_launcher.py:14: UserWarning: Update your `fit_generator` call to the Keras 2 API: `fit_generator(<keras.pre..., validation_data=<keras.pre..., steps_per_epoch=250, epochs=25, validation_steps=2000)`\n",
      "  \n"
     ]
    },
    {
     "name": "stdout",
     "output_type": "stream",
     "text": [
      "Epoch 1/25\n",
      "250/250 [==============================] - 518s 2s/step - loss: 0.6697 - acc: 0.5890 - val_loss: 0.6540 - val_acc: 0.6045\n",
      "Epoch 2/25\n",
      "250/250 [==============================] - 518s 2s/step - loss: 0.6305 - acc: 0.6479 - val_loss: 0.6105 - val_acc: 0.6924\n",
      "Epoch 3/25\n",
      "250/250 [==============================] - 481s 2s/step - loss: 0.5907 - acc: 0.6926 - val_loss: 0.5692 - val_acc: 0.7130\n",
      "Epoch 4/25\n",
      "250/250 [==============================] - 482s 2s/step - loss: 0.5692 - acc: 0.7057 - val_loss: 0.5688 - val_acc: 0.7071\n",
      "Epoch 5/25\n",
      "250/250 [==============================] - 493s 2s/step - loss: 0.5399 - acc: 0.7261 - val_loss: 0.5551 - val_acc: 0.7138\n",
      "Epoch 6/25\n",
      "250/250 [==============================] - 523s 2s/step - loss: 0.5120 - acc: 0.7483 - val_loss: 0.4946 - val_acc: 0.7654\n",
      "Epoch 7/25\n",
      "250/250 [==============================] - 302s 1s/step - loss: 0.4902 - acc: 0.7616 - val_loss: 0.5516 - val_acc: 0.7135\n",
      "Epoch 8/25\n",
      "250/250 [==============================] - 278s 1s/step - loss: 0.4835 - acc: 0.7641 - val_loss: 0.4832 - val_acc: 0.7666\n",
      "Epoch 9/25\n",
      "250/250 [==============================] - 285s 1s/step - loss: 0.4573 - acc: 0.7825 - val_loss: 0.4597 - val_acc: 0.7881\n",
      "Epoch 10/25\n",
      "250/250 [==============================] - 291s 1s/step - loss: 0.4522 - acc: 0.7830 - val_loss: 0.4639 - val_acc: 0.7878\n",
      "Epoch 11/25\n",
      "250/250 [==============================] - 280s 1s/step - loss: 0.4328 - acc: 0.7950 - val_loss: 0.4715 - val_acc: 0.7809\n",
      "Epoch 12/25\n",
      "250/250 [==============================] - 282s 1s/step - loss: 0.4256 - acc: 0.8014 - val_loss: 0.4507 - val_acc: 0.7820\n",
      "Epoch 13/25\n",
      "250/250 [==============================] - 279s 1s/step - loss: 0.4126 - acc: 0.8061 - val_loss: 0.5024 - val_acc: 0.7540\n",
      "Epoch 14/25\n",
      "250/250 [==============================] - 277s 1s/step - loss: 0.3992 - acc: 0.8173 - val_loss: 0.4431 - val_acc: 0.7949\n",
      "Epoch 15/25\n",
      "250/250 [==============================] - 280s 1s/step - loss: 0.3780 - acc: 0.8271 - val_loss: 0.4395 - val_acc: 0.7946\n",
      "Epoch 16/25\n",
      "250/250 [==============================] - 282s 1s/step - loss: 0.3748 - acc: 0.8295 - val_loss: 0.4312 - val_acc: 0.8009\n",
      "Epoch 17/25\n",
      "250/250 [==============================] - 370s 1s/step - loss: 0.3621 - acc: 0.8366 - val_loss: 0.4422 - val_acc: 0.8086\n",
      "Epoch 18/25\n",
      "250/250 [==============================] - 290s 1s/step - loss: 0.3517 - acc: 0.8426 - val_loss: 0.4609 - val_acc: 0.7971\n",
      "Epoch 19/25\n",
      "250/250 [==============================] - 287s 1s/step - loss: 0.3446 - acc: 0.8495 - val_loss: 0.4655 - val_acc: 0.7921\n",
      "Epoch 20/25\n",
      "250/250 [==============================] - 277s 1s/step - loss: 0.3368 - acc: 0.8549 - val_loss: 0.4363 - val_acc: 0.8082\n",
      "Epoch 21/25\n",
      "250/250 [==============================] - 280s 1s/step - loss: 0.3251 - acc: 0.8570 - val_loss: 0.5136 - val_acc: 0.7804\n",
      "Epoch 22/25\n",
      "250/250 [==============================] - 283s 1s/step - loss: 0.3094 - acc: 0.8631 - val_loss: 0.4591 - val_acc: 0.8026\n",
      "Epoch 23/25\n",
      "250/250 [==============================] - 1280s 5s/step - loss: 0.3055 - acc: 0.8660 - val_loss: 0.4564 - val_acc: 0.8059\n",
      "Epoch 24/25\n",
      "250/250 [==============================] - 301s 1s/step - loss: 0.2969 - acc: 0.8699 - val_loss: 0.4560 - val_acc: 0.8080\n",
      "Epoch 25/25\n",
      "250/250 [==============================] - 281s 1s/step - loss: 0.2815 - acc: 0.8819 - val_loss: 0.4572 - val_acc: 0.8105\n"
     ]
    },
    {
     "data": {
      "text/plain": [
       "<keras.callbacks.History at 0x22fb02b1b70>"
      ]
     },
     "execution_count": 5,
     "metadata": {},
     "output_type": "execute_result"
    }
   ],
   "source": [
    "training_set = train_datagen.flow_from_directory(r'C:\\Users\\saipr\\.jupyter\\Convolutional_Neural_Networks\\dataset\\training_set',\n",
    "                                                target_size = (64,64),\n",
    "                                                batch_size = 32,\n",
    "                                                class_mode ='binary')\n",
    "test_set = test_datagen.flow_from_directory(r'C:\\Users\\saipr\\.jupyter\\Convolutional_Neural_Networks\\dataset\\test_set',\n",
    "                                           target_size = (64,64),\n",
    "                                           batch_size =32,\n",
    "                                           class_mode = 'binary')\n",
    "\n",
    "classifier.fit_generator(training_set,\n",
    "                        samples_per_epoch = 8000,\n",
    "                        nb_epoch = 25,\n",
    "                        validation_data = test_set,\n",
    "                        nb_val_samples = 2000)"
   ]
  },
  {
   "cell_type": "code",
   "execution_count": 51,
   "metadata": {},
   "outputs": [
    {
     "data": {
      "text/plain": [
       "array([[1.]], dtype=float32)"
      ]
     },
     "execution_count": 51,
     "metadata": {},
     "output_type": "execute_result"
    }
   ],
   "source": [
    "import numpy as np\n",
    "from  keras.preprocessing import image\n",
    "\n",
    "# test_image = image.load_img(r'C:\\Users\\saipr\\.jupyter\\Convolutional_Neural_Networks\\dataset\\single_prediction\\cat_or_dog_2.jpg', target_size =(64,64))\n",
    "\n",
    "test_image = image.load_img(r'C:\\Users\\saipr\\Documents\\Push_van_cat.jpg', target_size =(64,64))\n",
    "\n",
    "test_image = image.img_to_array(test_image)\n",
    "\n",
    "test_image = np.expand_dims(test_image,axis=0)\n",
    "\n",
    "result = classifier.predict(test_image)\n",
    "\n",
    "# training_set.class_indices\n",
    "\n",
    "if result[0][0] == 1:\n",
    "    prediction = \"dog\"\n",
    "else:\n",
    "    prediction = \"cat\"\n",
    "\n",
    "result"
   ]
  },
  {
   "cell_type": "code",
   "execution_count": 52,
   "metadata": {},
   "outputs": [
    {
     "data": {
      "text/plain": [
       "{'cats': 0, 'dogs': 1}"
      ]
     },
     "execution_count": 52,
     "metadata": {},
     "output_type": "execute_result"
    }
   ],
   "source": [
    "training_set.class_indices\n"
   ]
  }
 ],
 "metadata": {
  "kernelspec": {
   "display_name": "Python 3",
   "language": "python",
   "name": "python3"
  },
  "language_info": {
   "codemirror_mode": {
    "name": "ipython",
    "version": 3
   },
   "file_extension": ".py",
   "mimetype": "text/x-python",
   "name": "python",
   "nbconvert_exporter": "python",
   "pygments_lexer": "ipython3",
   "version": "3.6.5"
  }
 },
 "nbformat": 4,
 "nbformat_minor": 2
}
