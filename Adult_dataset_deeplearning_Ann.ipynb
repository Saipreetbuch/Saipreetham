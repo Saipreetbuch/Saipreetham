{
 "cells": [
  {
   "cell_type": "code",
   "execution_count": 1,
   "metadata": {},
   "outputs": [],
   "source": [
    "import numpy as np\n",
    "import matplotlib.pyplot as plt\n",
    "import pandas as pd\n",
    "import datetime \n",
    "\n",
    "dataset = pd.read_csv('adult.csv')\n",
    "df=dataset.copy()\n",
    "\n",
    "df['native-country'].replace('?','United-States',inplace=True)\n",
    "df['occupation'].replace('?','Prof-specialty',inplace=True)\n",
    "df['workclass'].replace('?','Private',inplace=True)\n",
    "\n",
    "x = df.iloc[:,:-1].values\n",
    "y = df.iloc[:,14].values"
   ]
  },
  {
   "cell_type": "code",
   "execution_count": 9,
   "metadata": {},
   "outputs": [
    {
     "name": "stderr",
     "output_type": "stream",
     "text": [
      "C:\\Users\\saipr\\Anaconda3\\lib\\site-packages\\sklearn\\preprocessing\\_encoders.py:363: FutureWarning: The handling of integer data will change in version 0.22. Currently, the categories are determined based on the range [0, max(values)], while in the future they will be determined based on the unique values.\n",
      "If you want the future behaviour and silence this warning, you can specify \"categories='auto'\".\n",
      "In case you used a LabelEncoder before this OneHotEncoder to convert the categories to integers, then you can now use the OneHotEncoder directly.\n",
      "  warnings.warn(msg, FutureWarning)\n",
      "C:\\Users\\saipr\\Anaconda3\\lib\\site-packages\\sklearn\\preprocessing\\_encoders.py:385: DeprecationWarning: The 'categorical_features' keyword is deprecated in version 0.20 and will be removed in 0.22. You can use the ColumnTransformer instead.\n",
      "  \"use the ColumnTransformer instead.\", DeprecationWarning)\n"
     ]
    }
   ],
   "source": [
    "from sklearn.preprocessing import LabelEncoder, OneHotEncoder\n",
    "# from sklearn.preprocessing import LabelEncoder,OneHotEncoder\n",
    "lb_x = LabelEncoder()\n",
    "x[:,1] = lb_x.fit_transform(x[:, 1])\n",
    "onehotencoder = OneHotEncoder(categorical_features = [1])\n",
    "\n",
    "lb_x1 = LabelEncoder()\n",
    "x[:,3] = lb_x1.fit_transform(x[:, 3])\n",
    "onehotencoder = OneHotEncoder(categorical_features = [3])\n",
    "\n",
    "lb_x2 = LabelEncoder()\n",
    "x[:,5] = lb_x2.fit_transform(x[:, 5])\n",
    "onehotencoder = OneHotEncoder(categorical_features = [5])\n",
    "\n",
    "lb_x3 = LabelEncoder()\n",
    "x[:,6] = lb_x3.fit_transform(x[:, 6])\n",
    "onehotencoder = OneHotEncoder(categorical_features = [6])\n",
    "\n",
    "lb_x4 = LabelEncoder()\n",
    "x[:,7] = lb_x4.fit_transform(x[:, 7])\n",
    "onehotencoder = OneHotEncoder(categorical_features = [7])\n",
    "\n",
    "lb_x5 = LabelEncoder()\n",
    "x[:,8] = lb_x5.fit_transform(x[:, 8])\n",
    "onehotencoder = OneHotEncoder(categorical_features = [8])\n",
    "\n",
    "lb_x6 = LabelEncoder()\n",
    "x[:,9] = lb_x6.fit_transform(x[:, 9])\n",
    "# onehotencoder = OneHotEncoder(categorical_features = [9])\n",
    "\n",
    "lb_x7 = LabelEncoder()\n",
    "x[:,13] = lb_x7.fit_transform(x[:, 13])\n",
    "onehotencoder = OneHotEncoder(categorical_features = [13])\n",
    "x = onehotencoder.fit_transform(x).toarray()\n",
    "\n",
    "lb_y = LabelEncoder()\n",
    "y = lb_y.fit_transform(y)\n"
   ]
  },
  {
   "cell_type": "code",
   "execution_count": 19,
   "metadata": {},
   "outputs": [],
   "source": [
    "from sklearn.model_selection import train_test_split\n",
    "x_train,x_test,y_train,y_test = train_test_split(x,y,test_size =0.4,random_state=0)\n",
    "\n",
    "from sklearn.preprocessing import StandardScaler\n",
    "sc = StandardScaler()\n",
    "x_train = sc.fit_transform(x_train)\n",
    "x_test = sc.fit_transform(x_test)"
   ]
  },
  {
   "cell_type": "code",
   "execution_count": 36,
   "metadata": {},
   "outputs": [
    {
     "name": "stderr",
     "output_type": "stream",
     "text": [
      "C:\\Users\\saipr\\Anaconda3\\lib\\site-packages\\ipykernel_launcher.py:7: UserWarning: Update your `Dense` call to the Keras 2 API: `Dense(activation=\"relu\", input_dim=55, units=8, kernel_initializer=\"uniform\")`\n",
      "  import sys\n",
      "C:\\Users\\saipr\\Anaconda3\\lib\\site-packages\\ipykernel_launcher.py:9: UserWarning: Update your `Dense` call to the Keras 2 API: `Dense(activation=\"relu\", units=8, kernel_initializer=\"uniform\")`\n",
      "  if __name__ == '__main__':\n",
      "C:\\Users\\saipr\\Anaconda3\\lib\\site-packages\\ipykernel_launcher.py:11: UserWarning: Update your `Dense` call to the Keras 2 API: `Dense(activation=\"relu\", units=8, kernel_initializer=\"uniform\")`\n",
      "  # This is added back by InteractiveShellApp.init_path()\n",
      "C:\\Users\\saipr\\Anaconda3\\lib\\site-packages\\ipykernel_launcher.py:13: UserWarning: Update your `Dense` call to the Keras 2 API: `Dense(activation=\"relu\", units=8, kernel_initializer=\"uniform\")`\n",
      "  del sys.path[0]\n",
      "C:\\Users\\saipr\\Anaconda3\\lib\\site-packages\\ipykernel_launcher.py:15: UserWarning: Update your `Dense` call to the Keras 2 API: `Dense(activation=\"sigmoid\", units=1, kernel_initializer=\"uniform\")`\n",
      "  from ipykernel import kernelapp as app\n"
     ]
    }
   ],
   "source": [
    "import keras\n",
    "from keras.models import Sequential\n",
    "from keras.layers import Dense\n",
    "\n",
    "classifier = Sequential()\n",
    "\n",
    "classifier.add(Dense(output_dim =8,init='uniform', activation ='relu',input_dim = 55))\n",
    "\n",
    "classifier.add(Dense(output_dim = 8, init= 'uniform', activation = 'relu'))\n",
    "\n",
    "classifier.add(Dense(output_dim = 8, init= 'uniform', activation = 'relu'))\n",
    "\n",
    "classifier.add(Dense(output_dim = 8, init= 'uniform', activation = 'relu'))\n",
    "\n",
    "classifier.add(Dense(output_dim = 1, init ='uniform', activation = 'sigmoid'))\n",
    "\n"
   ]
  },
  {
   "cell_type": "code",
   "execution_count": 37,
   "metadata": {},
   "outputs": [],
   "source": [
    "classifier.compile(optimizer ='adam', loss= 'binary_crossentropy', metrics = ['accuracy'])\n"
   ]
  },
  {
   "cell_type": "code",
   "execution_count": 38,
   "metadata": {},
   "outputs": [
    {
     "name": "stderr",
     "output_type": "stream",
     "text": [
      "C:\\Users\\saipr\\Anaconda3\\lib\\site-packages\\keras\\models.py:874: UserWarning: The `nb_epoch` argument in `fit` has been renamed `epochs`.\n",
      "  warnings.warn('The `nb_epoch` argument in `fit` '\n"
     ]
    },
    {
     "name": "stdout",
     "output_type": "stream",
     "text": [
      "Epoch 1/10\n",
      "29305/29305 [==============================] - 5s 159us/step - loss: 0.4077 - acc: 0.8042\n",
      "Epoch 2/10\n",
      "29305/29305 [==============================] - 4s 124us/step - loss: 0.3547 - acc: 0.8379\n",
      "Epoch 3/10\n",
      "29305/29305 [==============================] - 4s 130us/step - loss: 0.3442 - acc: 0.8414\n",
      "Epoch 4/10\n",
      "29305/29305 [==============================] - 4s 133us/step - loss: 0.3385 - acc: 0.8448\n",
      "Epoch 5/10\n",
      "29305/29305 [==============================] - 3s 112us/step - loss: 0.3355 - acc: 0.8451\n",
      "Epoch 6/10\n",
      "29305/29305 [==============================] - 3s 113us/step - loss: 0.3341 - acc: 0.8461\n",
      "Epoch 7/10\n",
      "29305/29305 [==============================] - 3s 113us/step - loss: 0.3323 - acc: 0.8464\n",
      "Epoch 8/10\n",
      "29305/29305 [==============================] - 3s 112us/step - loss: 0.3313 - acc: 0.8465\n",
      "Epoch 9/10\n",
      "29305/29305 [==============================] - 3s 106us/step - loss: 0.3305 - acc: 0.8472\n",
      "Epoch 10/10\n",
      "29305/29305 [==============================] - 3s 109us/step - loss: 0.3293 - acc: 0.8477\n"
     ]
    },
    {
     "data": {
      "text/plain": [
       "<keras.callbacks.History at 0x1fa8a5fab38>"
      ]
     },
     "execution_count": 38,
     "metadata": {},
     "output_type": "execute_result"
    }
   ],
   "source": [
    "classifier.fit(x_train,y_train,batch_size = 10, nb_epoch =10)"
   ]
  },
  {
   "cell_type": "code",
   "execution_count": 39,
   "metadata": {},
   "outputs": [
    {
     "data": {
      "text/plain": [
       "array([[13761,  1890],\n",
       "       [ 1110,  2776]], dtype=int64)"
      ]
     },
     "execution_count": 39,
     "metadata": {},
     "output_type": "execute_result"
    }
   ],
   "source": [
    "y_pred = classifier.predict(x_test)\n",
    "y_pred = (y_pred>0.5)\n",
    "\n",
    "from sklearn.metrics import confusion_matrix\n",
    "cm = confusion_matrix(y_pred,y_test)\n",
    "cm"
   ]
  },
  {
   "cell_type": "code",
   "execution_count": null,
   "metadata": {},
   "outputs": [],
   "source": [
    "# Got an accuracy of 84.64"
   ]
  }
 ],
 "metadata": {
  "kernelspec": {
   "display_name": "Python 3",
   "language": "python",
   "name": "python3"
  },
  "language_info": {
   "codemirror_mode": {
    "name": "ipython",
    "version": 3
   },
   "file_extension": ".py",
   "mimetype": "text/x-python",
   "name": "python",
   "nbconvert_exporter": "python",
   "pygments_lexer": "ipython3",
   "version": "3.6.5"
  }
 },
 "nbformat": 4,
 "nbformat_minor": 2
}
