{
 "cells": [
  {
   "cell_type": "code",
   "execution_count": 3,
   "metadata": {
    "scrolled": true
   },
   "outputs": [
    {
     "name": "stdout",
     "output_type": "stream",
     "text": [
      "1.2327707256050575 1.4075563743775614 -0.9424295300365125\n"
     ]
    },
    {
     "data": {
      "image/png": "[encoded data removed]",
      "text/plain": [
       "<Figure size 432x288 with 1 Axes>"
      ]
     },
     "metadata": {},
     "output_type": "display_data"
    }
   ],
   "source": [
    "import numpy as np\n",
    "import matplotlib.pyplot as plt\n",
    "\n",
    "X1 = np.array([0,1,1,2,1])\n",
    "X2 = np.array([1,0,1,1,2])\n",
    "y = np.array([0.6,2.4,1.6,3.4,0.5])\n",
    "\n",
    "theta0 = 1\n",
    "theta1 = 1\n",
    "theta2 = 1\n",
    "arr = []\n",
    "\n",
    "def multiply(X1,X2,theta,thetaa):\n",
    "    req = []\n",
    "    for i in range(len(X1)):\n",
    "        t = X1[i] * theta\n",
    "        t1 = X2[i] * thetaa\n",
    "        req.append(t+t1+theta0)\n",
    "\n",
    "    return req\n",
    "\n",
    "def cost_func(m, a, b):\n",
    "    total = 0\n",
    "    for i in range(m):\n",
    "        total += (a[i] - b[i]) ** 2\n",
    "\n",
    "    return total * (1 / (2*m))\n",
    "\n",
    "for k in range(0,3000):\n",
    "\n",
    "    values = multiply(X1,X2,theta1,theta2)\n",
    "    #print(values)\n",
    "\n",
    "    cost = cost_func(len(X1),values,y)\n",
    "    #print(cost)\n",
    "    arr.append(cost)\n",
    "    #print(k)\n",
    "    \n",
    "    for i in range(len(X1)):\n",
    "        \n",
    "        theta0 = theta0 - 0.01*(1/5)*(values[i]-y[i])\n",
    "        theta1 = theta1 - 0.01*(1/5)*(values[i]-y[i])*X1[i]  \n",
    "        theta2 = theta2 - 0.01*(1/5)*(values[i]-y[i])*X2[i]\n",
    "        \n",
    "# print(arr)\n",
    "# print(k)\n",
    "print(theta0,theta1,theta2)\n",
    "plt.plot([i for i in range(len(arr))],arr)\n",
    "# plt.xlim(0,1000)\n",
    "plt.xlabel(\"Iterations\")\n",
    "plt.ylabel(\"J\")\n",
    "# plt.ylim(0,2)\n",
    "# plt.scatter(X1,y)\n",
    "# plt.scatter(X2,y)\n",
    "# plt.plot(X1,(theta0+(theta1*X1)+(theta2*X2)),'k')\n",
    "plt.show()"
   ]
  }
 ],
 "metadata": {
  "kernelspec": {
   "display_name": "Python 3",
   "language": "python",
   "name": "python3"
  },
  "language_info": {
   "codemirror_mode": {
    "name": "ipython",
    "version": 3
   },
   "file_extension": ".py",
   "mimetype": "text/x-python",
   "name": "python",
   "nbconvert_exporter": "python",
   "pygments_lexer": "ipython3",
   "version": "3.6.5"
  }
 },
 "nbformat": 4,
 "nbformat_minor": 2
}
