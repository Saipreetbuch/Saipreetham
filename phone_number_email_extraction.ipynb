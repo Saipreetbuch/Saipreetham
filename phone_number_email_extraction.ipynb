{
 "cells": [
  {
   "cell_type": "code",
   "execution_count": null,
   "metadata": {},
   "outputs": [],
   "source": [
    "import re \n",
    "\n",
    "def Email_Phone(name,email=True,phone=True):\n",
    "    \n",
    "    if name=='usb256.001':\n",
    "        \n",
    "        filename=open(name,'r',encoding='latin-1')\n",
    "        d=filename.read()\n",
    "        \n",
    "        if email:\n",
    "\n",
    "            #Regular Expression\n",
    "            reg_exp=re.compile(r'([a-zA-Z0-9_.+-]+@[a-zA-Z0-9-]+\\.(?:com|edu|net|org|mil|gov))')\n",
    "            email=reg_exp.findall(d)\n",
    "\n",
    "            print(len(email))\n",
    "\n",
    "            #writing to a text file\n",
    "            file = open('email.txt','w')\n",
    "            file.write(\"Email ID's: \")\n",
    "            file.write(str(email)) \n",
    "            \n",
    "        else:\n",
    "            pass\n",
    "        \n",
    "        if phone:\n",
    "            \n",
    "            #Regular Expression\n",
    "            reg_exp1 =re.compile(r\"(\\(\\d{3}\\)\\s{1}\\d{3}[-.]{1}\\d{4})\")\n",
    "            reg_exp2=re.compile(r\"(\\d{3}\\.\\d{3}\\.\\d{4})\")\n",
    "            reg_exp3=re.compile(r\"(\\d{3}\\-\\d{3}\\-\\d{4})\")\n",
    "            reg_exp4=re.compile(r\"(\\d{3}\\s{1}\\d{3}\\-\\d{4})\")\n",
    "            \n",
    "\n",
    "            phone=reg_exp1.findall(d)\n",
    "            phone2=reg_exp2.findall(d)\n",
    "            phone3=reg_exp3.findall(d)\n",
    "            phone4=reg_exp4.findall(d)\n",
    "            \n",
    "            print(len(phone)+len(phone2)+len(phone3)+len(phone4))\n",
    "\n",
    "            #writing to a text file\n",
    "            file = open('phone.txt','w')\n",
    "            file.write(\"Phone no's: \")\n",
    "            file.write(str(phone)+str(phone2)+str(phone3)+str(phone4))\n",
    "\n",
    "            file.close()\n",
    "        else:\n",
    "            pass\n",
    "        \n",
    "    else:\n",
    "        \n",
    "        #if its not the file\n",
    "        print(\"check your file name again\")\n",
    "        \n",
    "    return file\n",
    "\n",
    "Email_Phone('usb256.001')"
   ]
  },
  {
   "cell_type": "code",
   "execution_count": null,
   "metadata": {},
   "outputs": [],
   "source": []
  }
 ],
 "metadata": {
  "kernelspec": {
   "display_name": "Python 3",
   "language": "python",
   "name": "python3"
  },
  "language_info": {
   "codemirror_mode": {
    "name": "ipython",
    "version": 3
   },
   "file_extension": ".py",
   "mimetype": "text/x-python",
   "name": "python",
   "nbconvert_exporter": "python",
   "pygments_lexer": "ipython3",
   "version": "3.6.5"
  }
 },
 "nbformat": 4,
 "nbformat_minor": 2
}
